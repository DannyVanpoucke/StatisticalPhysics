{
 "cells": [
  {
   "cell_type": "markdown",
   "metadata": {},
   "source": [
    "# Random Walk #"
   ]
  },
  {
   "cell_type": "code",
   "execution_count": null,
   "metadata": {},
   "outputs": [],
   "source": [
    "import matplotlib.pyplot as plt\n",
    "import numpy as np\n",
    "import scipy.special as sc\n"
   ]
  },
  {
   "cell_type": "code",
   "execution_count": null,
   "metadata": {},
   "outputs": [],
   "source": [
    "# De parameters\n",
    "N=10        # totaal aantal stappen\n",
    "n1=3        # aantal stappen naar rechts\n",
    "n2=N-n1     # aantal stappen naar links\n",
    "p=0.5       # kans voor stap naar rechts\n",
    "q=1.0-p     # kans voor stap naar links\n"
   ]
  },
  {
   "cell_type": "markdown",
   "metadata": {},
   "source": [
    "## 1. Waarschijnlijkheidsverdeling ##"
   ]
  },
  {
   "cell_type": "code",
   "execution_count": null,
   "metadata": {},
   "outputs": [],
   "source": [
    "min_n1=-10\n",
    "max_n1=20\n",
    "nsteps=max_n1-min_n1+1  #+1 want er is altijd 1 gridpunt meer dan er stappen in een grid zijn\n",
    "Xcoord=np.linspace(min_n1,max_n1,nsteps) # maak een reeks van n1 waarden gaande van\n",
    "\n",
    "Ycoord=np.zeros(nsteps)\n",
    "for i in range(nsteps):\n",
    "    Ycoord[i]+=sc.binom(N,Xcoord[i])*(p**Xcoord[i])*(q**(N-Xcoord[i]))"
   ]
  },
  {
   "cell_type": "code",
   "execution_count": null,
   "metadata": {},
   "outputs": [],
   "source": [
    "#En dit nu mooi plotten\n",
    "plt.figure(figsize=(12,8))\n",
    "#for yPred in all_yPred:\n",
    "#    plt.plot(xPred, yPred,   color='red'  ,linewidth=1, zorder=-1, alpha=0.25)\n",
    "\n",
    "#plt.fill_between(xPred.ravel(), CIlow, CIhigh, color='blue', zorder=0, alpha=.5)\n",
    "plt.plot(Xcoord, Ycoord,  color='blue',linewidth=2, zorder=0)\n",
    "plt.scatter(Xcoord, Ycoord,  color='black', zorder=1)\n",
    "\n",
    "plt.axis([min_n1,max_n1,0,0.5])\n",
    "plt.xticks(Xcoord,rotation=45,fontsize=18)\n",
    "Ylst=np.linspace(0,0.5,11)\n",
    "plt.yticks(Ylst,fontsize=18)\n",
    "plt.xlabel(\"n1\",fontsize=22,fontweight=\"bold\")\n",
    "plt.ylabel(\"P(n1)\",fontsize=22,fontweight=\"bold\")\n",
    "\n",
    "plt.show()\n"
   ]
  },
  {
   "cell_type": "markdown",
   "metadata": {},
   "source": [
    "## 2. Evolutie waarschijnlijkheidsverdeling ##\n",
    "Hoe verandert de waarschijnlijkheidsverdeling bij verandering van N?"
   ]
  },
  {
   "cell_type": "code",
   "execution_count": null,
   "metadata": {},
   "outputs": [],
   "source": [
    "min_n1=-10\n",
    "max_n1=20\n",
    "nsteps=max_n1-min_n1+1  #+1 want er is altijd 1 gridpunt meer dan er stappen in een grid zijn\n",
    "Xcoord=np.linspace(min_n1,max_n1,nsteps) # maak een reeks van n1 waarden gaande van\n",
    "\n",
    "min_N=5\n",
    "max_N=20\n",
    "numN=max_N-min_N+1\n",
    "Nlist=np.linspace(min_N,max_N,numN)\n",
    "\n",
    "Ycoord=np.zeros((numN,nsteps))\n",
    "for iN in range(numN): #+1: python neemt de bovengrens niet mee\n",
    "    N=iN+min_N # iN is de index in de lijst, begint bij 0, N is dan de echte \"N-waarde\"\n",
    "    for i in range(nsteps):\n",
    "        Ycoord[iN,i]+=sc.binom(N,Xcoord[i])*(p**Xcoord[i])*(q**(N-Xcoord[i]))"
   ]
  },
  {
   "cell_type": "code",
   "execution_count": null,
   "metadata": {},
   "outputs": [],
   "source": [
    "#En dit nu mooi plotten\n",
    "plt.figure(figsize=(12,8))\n",
    "for iN in range(numN):\n",
    "    Yc=Ycoord[iN]\n",
    "    plt.plot(Xcoord, Yc,   color='blue'  ,linewidth=3, zorder=-1, alpha=(1.0-0.9*(iN/numN)))\n",
    "\n",
    "plt.axis([min_n1,max_n1,0,0.5])\n",
    "plt.xticks(Xcoord,rotation=45,fontsize=18)\n",
    "Ylst=np.linspace(0,0.5,11)\n",
    "plt.yticks(Ylst,fontsize=18)\n",
    "plt.xlabel(\"n1\",fontsize=22,fontweight=\"bold\")\n",
    "plt.ylabel(\"P(n1)\",fontsize=22,fontweight=\"bold\")\n",
    "\n",
    "plt.show()"
   ]
  },
  {
   "cell_type": "markdown",
   "metadata": {},
   "source": [
    "## 3. Stap evolutie ##"
   ]
  },
  {
   "cell_type": "code",
   "execution_count": null,
   "metadata": {},
   "outputs": [],
   "source": [
    "#parameters opnieuw instellen\n",
    "min_N=1   # minimaal aantal stappen\n",
    "max_N=100 # maximaal aantal stappen\n",
    "numN=max_N-min_N+1 # aantal stappen\n",
    "p=0.5     # kans stap rechts\n",
    "q=1.0-p   # kans stap links\n",
    "\n",
    "Ncoord=np.linspace(min_N,max_N,numN)\n",
    "E_n1=np.zeros(numN)     # gemiddelde n1\n",
    "Var_n1=np.zeros(numN)   # variantie n1\n",
    "for iN in range(numN):\n",
    "    N=iN+min_N\n",
    "    E_n1[iN]=N*p\n",
    "    Var_n1[iN]=N*p*q\n",
    "    \n",
    "#En dit nu mooi plotten\n",
    "plt.figure(figsize=(12,8))\n",
    "\n",
    "#variantie omzetten in 2sigma range\n",
    "SigLow=np.zeros(numN)\n",
    "SigHigh=np.zeros(numN)\n",
    "for iN in range(numN):\n",
    "    N=iN+min_N\n",
    "    sig2=np.sqrt(Var_n1[iN])\n",
    "    SigLow[iN]=E_n1[iN]-sig2\n",
    "    SigHigh[iN]=E_n1[iN]+sig2\n",
    "    \n",
    "plt.fill_between(Ncoord, SigLow, SigHigh, color='blue', zorder=0, alpha=.5)\n",
    "plt.plot(Ncoord, E_n1,  color='blue',linewidth=2, zorder=0)\n",
    "\n",
    "\n",
    "plt.axis([min_N,max_N,0,E_n1[-1]])\n",
    "Xlst=np.linspace(0,max_N,5)\n",
    "plt.xticks(Xlst,rotation=45,fontsize=18)\n",
    "Ylst=np.linspace(0,E_n1[-1],int(E_n1[-1]*0.1)+1)\n",
    "plt.yticks(Ylst,fontsize=18)\n",
    "plt.xlabel(\"N\",fontsize=22,fontweight=\"bold\")\n",
    "plt.ylabel(\"E[n1]\",fontsize=22,fontweight=\"bold\")\n",
    "\n",
    "plt.show()"
   ]
  },
  {
   "cell_type": "markdown",
   "metadata": {},
   "source": [
    "## 4. Gemiddelde positie ##"
   ]
  },
  {
   "cell_type": "code",
   "execution_count": null,
   "metadata": {},
   "outputs": [],
   "source": [
    "#parameters opnieuw instellen\n",
    "l=0.1     # stapgrootte in willekeurige eenheden\n",
    "min_N=1   # minimaal aantal stappen\n",
    "max_N=100 # maximaal aantal stappen\n",
    "numN=max_N-min_N+1 # aantal stappen\n",
    "p=0.6     # kans stap rechts\n",
    "q=1.0-p   # kans stap links\n",
    "\n",
    "Ncoord=np.linspace(min_N,max_N,numN)\n",
    "E_L=np.zeros(numN)     # gemiddelde n1\n",
    "Var_L=np.zeros(numN)   # variantie n1\n",
    "for iN in range(numN):\n",
    "    N=iN+min_N\n",
    "    E_L[iN]=N*(p-q)*l\n",
    "    Var_L[iN]=4.0*N*p*q*(l**2)\n",
    "    \n",
    "#En dit nu mooi plotten\n",
    "plt.figure(figsize=(12,8))\n",
    "\n",
    "#variantie omzetten in 2sigma range\n",
    "SigLow=np.zeros(numN)\n",
    "SigHigh=np.zeros(numN)\n",
    "for iN in range(numN):\n",
    "    N=iN+min_N\n",
    "    sig2=np.sqrt(Var_L[iN])\n",
    "    SigLow[iN]=E_L[iN]-sig2\n",
    "    SigHigh[iN]=E_L[iN]+sig2\n",
    "    \n",
    "plt.fill_between(Ncoord, SigLow, SigHigh, color='blue', zorder=0, alpha=.5)\n",
    "plt.plot(Ncoord, E_L,  color='blue',linewidth=2, zorder=0)\n",
    "\n",
    "\n",
    "min_L=np.min(SigLow)\n",
    "max_L=max(SigHigh)\n",
    "\n",
    "plt.axis([min_N,max_N,min_L,max_L])\n",
    "Xlst=np.linspace(0,max_N,5)\n",
    "plt.xticks(Xlst,rotation=45,fontsize=18)\n",
    "Ylst=np.linspace(min_L,max_L,10)\n",
    "plt.yticks(Ylst,fontsize=18)\n",
    "plt.xlabel(\"N\",fontsize=22,fontweight=\"bold\")\n",
    "plt.ylabel(\"E[L]\",fontsize=22,fontweight=\"bold\")\n",
    "\n",
    "plt.show()"
   ]
  },
  {
   "cell_type": "code",
   "execution_count": null,
   "metadata": {},
   "outputs": [],
   "source": []
  }
 ],
 "metadata": {
  "kernelspec": {
   "display_name": "Python 3",
   "language": "python",
   "name": "python3"
  },
  "language_info": {
   "codemirror_mode": {
    "name": "ipython",
    "version": 3
   },
   "file_extension": ".py",
   "mimetype": "text/x-python",
   "name": "python",
   "nbconvert_exporter": "python",
   "pygments_lexer": "ipython3",
   "version": "3.7.3"
  }
 },
 "nbformat": 4,
 "nbformat_minor": 2
}
