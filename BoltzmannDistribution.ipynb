{
 "cells": [
  {
   "cell_type": "markdown",
   "metadata": {},
   "source": [
    "# BoltzmannDistribution#\n",
    "Behorende bij de werkzitting oefeningen over de Boltzmann Distributie."
   ]
  },
  {
   "cell_type": "code",
   "execution_count": null,
   "metadata": {},
   "outputs": [],
   "source": [
    "from mpl_toolkits import mplot3d\n",
    "import matplotlib.pyplot as plt\n",
    "from matplotlib.animation import FuncAnimation\n",
    "import numpy as np"
   ]
  },
  {
   "cell_type": "markdown",
   "metadata": {},
   "source": [
    "## Oefening 1: CHN-molecule ##\n",
    "<img align=\"left\" src=\"images/HCNdensity_DFT.jpg\" WIDTH=\"250\">\n",
    "Kwantum mechanische berekeningen geven ons de beste beschrijving van de moleculaire werkelijkheid welke we kunnen bekomen. \n",
    "Een heel praktische (en computationeel efficiënte) benadering is de dichtheidsfunctionaal benadering (DFT), die on toe \n",
    "laat kwantum mechanische berekeningen uit te voeren op systemen met honderden of zelfs duizenden atomen. Er is \n",
    "echter wel een belangrijke beperking in deze (en andere) kwantum mechanische berekeningen: ze worden uitgevoerd bij Kelvin (of zonder temperatuur). Er kan echter een goede eerste benadering worden gemaakt van de temperatuursbijdrage op de energy van zo een systeem, door de vibrationele energie bijdrage te bepalen. Dit kan door bij elke temperatuur te kijken welke toestanden bezet zijn. Ik heb voor jullie het vibrationeel spectrum van een HCN molecule berekend (zie tabel). Elke vibrationele “mode” kan gezien worden als een energetisch toestandsniveau.\n",
    "\n",
    "- Bereken de bezetting van de verschillende niveaus bij volgende temperaturen: ($𝑘_𝐵=8.617\\times 10^{−5}$ 𝑒V/𝐾 )\n",
    "  - 0K (absoluut nulpunt)\n",
    "  - 4K (temperatuur vloeibare H)\n",
    "  - 70K (temperatuur vloeibare N)\n",
    "  - 300K (“kamertemperatuur” voor de computationele onderzoeker)\n",
    "  - 1000K\n",
    "- Bij welke T zullen alle moleculen trillen volgens de 6e mode?\n",
    "\n",
    "| mode | Energy (meV) |\n",
    "|------|--------------|\n",
    "| 1    | 2.26         |\n",
    "| 2    | 2.26         |\n",
    "| 3    | 89.84        |\n",
    "| 4    | 89.84        |\n",
    "| 5    | 263.38       |\n",
    "| 6    | 417.53       |"
   ]
  },
  {
   "cell_type": "markdown",
   "metadata": {},
   "source": [
    "### Oplossing ###\n",
    "Bij deze oefening maken we gebruik van de Boltzmann distributie:\n",
    "\n",
    "$ N_i = \\frac{N g_i exp(-\\frac{\\epsilon_i}{k_BT})}{\\sum_{j=1}^{\\infty}{g_j exp(-\\frac{\\epsilon_j}{k_BT})}} $.\n",
    "\n",
    "Gezien $N$ onbekend (en een groot getal) is, brengen we deze naar de andere kant van onze vergelijking zodat we de bezetting zullen beschrijven in termen van de fractie van het totaal aantal deeltjes ($\\frac{N_i}{N}$) in plaats van absolute aantallen. De ontaarding $g_i$ vinden we door de tabel te bestuderen. We zien dat er 4 verschillende energiën zijn. De laagste twee energieniveaus zijn 2-voudig ontaard ($g_i=2$) terwijl de twee hoogste energieniveaus niet ontaard zijn ($g_i=1$).\n",
    "\n",
    "Met deze kennis kunnen we aan de slag om het een en ander uit te rekenen in een excel werkblad of in een jupyter notebook."
   ]
  },
  {
   "cell_type": "code",
   "execution_count": null,
   "metadata": {},
   "outputs": [],
   "source": [
    "## Enkele constanten:\n",
    "nT=5 # aantal temperaturen\n",
    "kb=8.617E-2   # in meV/K\n",
    "epsi=[2.26, 89.84, 263.38, 417.53] # alle energiën in meV\n",
    "gi=[2,2,1,1] # de ontaardingen\n",
    "T=[0,4,70,300,1000] # De temperaturen\n",
    "\n",
    "for i in range(nT):\n",
    "    Ni=np.zeros(len(epsi))\n",
    "    for j in range(len(epsi)):\n",
    "        Ni[j]=gi[j]*np.exp(-(epsi[j])/(kb*T[i]))\n",
    "    Z=np.sum(Ni)  # de partitiefunctie\n",
    "    Ni/=Z\n",
    "    print('Bezetting bij T= %5i  N1= %8.6e N2= %8.6e N3= %8.6e N4= %8.6e'%(T[i], Ni[0],Ni[1],Ni[2],Ni[3]))"
   ]
  },
  {
   "cell_type": "code",
   "execution_count": null,
   "metadata": {},
   "outputs": [],
   "source": [
    "## Dezelfde oefening maar nu met een grafiek over een T range\n",
    "kb=8.617E-2   # in meV/K\n",
    "epsi=[2.26, 89.84, 263.38, 417.53] # alle energiën in meV\n",
    "gi=[2,2,1,1] # de ontaardingen\n",
    "T=np.logspace(start = -1, stop = 6, num = 8, base = 10)\n",
    "factors=np.array([1,2,3,4,5,6,7,8,9])\n",
    "Tgrid=list()\n",
    "for eenT in T:\n",
    "    Tgrid.extend(factors*eenT)\n",
    "\n",
    "nT=len(Tgrid)    \n",
    "NiT=np.zeros((len(epsi),nT))\n",
    "for i in range(nT):\n",
    "    Ni=np.zeros(len(epsi))\n",
    "    for j in range(len(epsi)):\n",
    "        Ni[j]=gi[j]*np.exp(-(epsi[j])/(kb*Tgrid[i]))\n",
    "    Z=np.sum(Ni)  # de partitiefunctie\n",
    "    NiT[:,i]=(Ni[:]/Z)*100\n",
    "    #print('Bezetting bij T= %8.6e  N1= %8.6e N2= %8.6e N3= %8.6e N4= %8.6e'%(Tgrid[i], Ni[0],Ni[1],Ni[2],Ni[3]))\n",
    "\n",
    "#plotje   \n",
    "xmin=np.min(Tgrid)\n",
    "xmax=np.max(Tgrid)\n",
    "ymin=np.min(-1)\n",
    "ymax=np.max(101)\n",
    "\n",
    "plt.figure(figsize=(12,8))\n",
    "\n",
    "cnt=0\n",
    "collst=['red','green','blue','orange']\n",
    "for Ni in NiT:\n",
    "    col=collst[cnt]\n",
    "    cnt+=1\n",
    "    strlabel=\"Level \"+str(cnt)+\" : \"+str(epsi[cnt-1])+\" meV\"\n",
    "    plt.plot(Tgrid, Ni,   color=col  ,linewidth=2, zorder=-1, label=strlabel)\n",
    "\n",
    "plt.xscale(\"log\")\n",
    "plt.yscale(\"linear\")\n",
    "plt.axis([xmin,xmax,ymin,ymax])\n",
    "\n",
    "plt.xticks(rotation=45,fontsize=18)\n",
    "plt.yticks([0,10,20,30,40,50,60,70,80,90,100],fontsize=18)\n",
    "plt.xlabel(\"Temperatuur T  [K]\",fontsize=22,fontweight=\"bold\")\n",
    "plt.ylabel(\"Bezetting [%]\",fontsize=22,fontweight=\"bold\")\n",
    "plt.grid(b=True, which='both', axis='both', color='lightgrey', linestyle='--', linewidth=1)\n",
    "plt.legend(fontsize=15)\n",
    "\n",
    "plt.show()"
   ]
  },
  {
   "cell_type": "markdown",
   "metadata": {},
   "source": [
    "## Oefening 2: Theoretisch model ##\n",
    "<img align=\"right\" src=\"images/BoltzmannNiveaus.jpg\" WIDTH=\"350\">\n",
    "\n",
    "1 mol deeltjes zijn verdeeld volgens de Boltzmann distributie. Elk deeltje kan één van zeven mogelijke kwantum toestanden (zie figuur) bezetten. De laagste toestand heeft energie 0, er zijn twee toestanden met energie 3D en vier toestanden met energie 6D.\n",
    "- Hoeveel deeltjes bevinden zich in elke toestand bij een temperatuur T= D/kB"
   ]
  },
  {
   "cell_type": "code",
   "execution_count": null,
   "metadata": {
    "scrolled": false
   },
   "outputs": [],
   "source": [
    "## Enkele constanten:\n",
    "nT=1 # aantal temperaturen\n",
    "epsi=[0, 3, 6] # alle energiën in D\n",
    "gi=[1,2,4] # de ontaardingen\n",
    "T=[1] # De temperaturen in D/kB\n",
    "\n",
    "for i in range(nT):\n",
    "    Ni=np.zeros(len(epsi))\n",
    "    for j in range(len(epsi)):\n",
    "        Ni[j]=gi[j]*np.exp(-(epsi[j])/(T[i]))\n",
    "    Z=np.sum(Ni)  # de partitiefunctie\n",
    "    Ni/=Z\n",
    "    Ni*=100.0 # in %\n",
    "    print('Bezetting bij T= %5i D/kB  N1= %8.3f %% N2= %8.3f %% N3= %8.3f %% '%(T[i], Ni[0],Ni[1],Ni[2]))"
   ]
  },
  {
   "cell_type": "code",
   "execution_count": null,
   "metadata": {},
   "outputs": [],
   "source": [
    "## Dezelfde oefening maar nu met een grafiek over een T range\n",
    "epsi=[0, 3, 6] # alle energiën in D\n",
    "gi=[1,2,4] # de ontaardingen\n",
    "T=np.logspace(start = -2, stop = 3, num = 6, base = 10)\n",
    "factors=np.array([1,2,3,4,5,6,7,8,9])\n",
    "Tgrid=list()\n",
    "for eenT in T:\n",
    "    Tgrid.extend(factors*eenT)\n",
    "\n",
    "nT=len(Tgrid)    \n",
    "NiT=np.zeros((len(epsi),nT))\n",
    "for i in range(nT):\n",
    "    Ni=np.zeros(len(epsi))\n",
    "    for j in range(len(epsi)):\n",
    "        Ni[j]=gi[j]*np.exp(-(epsi[j])/(Tgrid[i]))\n",
    "    Z=np.sum(Ni)  # de partitiefunctie\n",
    "    NiT[:,i]=(Ni[:]/Z)*100\n",
    "    #print('Bezetting bij T= %8.6e  N1= %8.6e N2= %8.6e N3= %8.6e N4= %8.6e'%(Tgrid[i], Ni[0],Ni[1],Ni[2],Ni[3]))\n",
    "\n",
    "#plotje   \n",
    "xmin=np.min(Tgrid)\n",
    "xmax=np.max(Tgrid)\n",
    "ymin=np.min(-1)\n",
    "ymax=np.max(101)\n",
    "\n",
    "plt.figure(figsize=(12,8))\n",
    "\n",
    "cnt=0\n",
    "collst=['red','green','blue']\n",
    "for Ni in NiT:\n",
    "    col=collst[cnt]\n",
    "    cnt+=1\n",
    "    strlabel=\"Level \"+str(cnt)+\" : \"+str(epsi[cnt-1])+\" D\"\n",
    "    plt.plot(Tgrid, Ni,   color=col  ,linewidth=2, zorder=-1, label=strlabel)\n",
    "\n",
    "plt.xscale(\"log\")\n",
    "plt.yscale(\"linear\")\n",
    "plt.axis([xmin,xmax,ymin,ymax])\n",
    "\n",
    "plt.xticks(rotation=45,fontsize=18)\n",
    "plt.yticks([0,10,20,30,40,50,60,70,80,90,100],fontsize=18)\n",
    "plt.xlabel(\"Temperatuur T  [D/kB]\",fontsize=22,fontweight=\"bold\")\n",
    "plt.ylabel(\"Bezetting [%]\",fontsize=22,fontweight=\"bold\")\n",
    "plt.grid(b=True, which='both', axis='both', color='lightgrey', linestyle='--', linewidth=1)\n",
    "plt.legend(fontsize=15)\n",
    "\n",
    "plt.show()"
   ]
  },
  {
   "cell_type": "code",
   "execution_count": null,
   "metadata": {},
   "outputs": [],
   "source": []
  }
 ],
 "metadata": {
  "kernelspec": {
   "display_name": "Python 3",
   "language": "python",
   "name": "python3"
  },
  "language_info": {
   "codemirror_mode": {
    "name": "ipython",
    "version": 3
   },
   "file_extension": ".py",
   "mimetype": "text/x-python",
   "name": "python",
   "nbconvert_exporter": "python",
   "pygments_lexer": "ipython3",
   "version": "3.7.3"
  }
 },
 "nbformat": 4,
 "nbformat_minor": 2
}
